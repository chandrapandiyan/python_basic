{
 "cells": [
  {
   "cell_type": "code",
   "execution_count": 7,
   "metadata": {},
   "outputs": [
    {
     "data": {
      "text/html": [
       "<style>\n",
       "  table {margin-left: 0 !important;}\n",
       "</style>"
      ],
      "text/plain": [
       "<IPython.core.display.HTML object>"
      ]
     },
     "metadata": {},
     "output_type": "display_data"
    }
   ],
   "source": [
    "%%html\n",
    "<style>\n",
    "  table {margin-left: 0 !important;}\n",
    "</style>"
   ]
  },
  {
   "cell_type": "markdown",
   "metadata": {},
   "source": [
    "\n",
    "# import re\n",
    "\n",
    "정규표현식(Reqular Expression)은 특정한 규칙을 가진 문자열을 표현하는데 사용되는 형식 언어이다. 주어진 패턴으로 문자열을 검색/치환하는데 주로 사용되며, vi 같은 편집기와 sed, grep 같은 프로그램에서 널리 사용된다. 파이썬에서는 정규표현식을 위한 re 모듈이 문자열 검색, 치환, 분리와 같은 기능을 제공한다.\n",
    "\n",
    "#### 정규표현식 문법\n",
    "정규표현식에서는 문자나 문자의 패턴을 나타내기 위한 특수 문자들이 있다.\n",
    "\n",
    "|특수문자|의미|\n",
    "|:---:|:---|\n",
    "|.|개행 문자를 제외한 문자 1자를 나타냄. re.DOTALL이 설정돼 있으면 개행을 포함한 문자 1자를 나타냄|\n",
    "|^|문자열의 시작을 나타냄. re.MULTILINE이 설정돼 있으면 매 라인마다 매치됨|\n"
   ]
  },
  {
   "cell_type": "code",
   "execution_count": 1,
   "metadata": {},
   "outputs": [
    {
     "data": {
      "text/plain": [
       "'<133>DW_FW#2: NetScreen device_id=DW_FW#2  [Root]system-notification-00257(traffic): start_time=\"2016-09-30 23:56:42\" duration=199 policy_id=20 service=http proto=6 src zone=Untrust dst zone=DMZ action=Permit sent=6695 rcvd=423932 src=211\\n.210.161.14 dst=112.175.10.21 src_port=50461 dst_port=80 src-xlated ip=211.210.161.14 port=50461 dst-xlated ip=112.175.10.21 port=80 session_id=393457 reason=Close - AGE OUT'"
      ]
     },
     "execution_count": 1,
     "metadata": {},
     "output_type": "execute_result"
    }
   ],
   "source": [
    "log_srx = \"<134>Mar 28 19:00:04 YY_DMZ_FW-1 RT_FLOW: RT_FLOW_SESSION_CLOSE: session closed TCP RST: 58.111.111.113/57874->211.222.222.88/8086 None 58.111.111.113/57874->211.222.222.88/8086 None None 6 ID_3103 Untrust DMZ 80372561 11(1285) 13(4600) 2 UNKNOWN UNKNOWN N/A(N/A) reth0.0 UNKNOWN\"\n",
    "log_isg = \"\"\"<133>DD_FW#2: NetScreen device_id=DD_FW#2  [Root]system-notification-00257(traffic): start_time=\"2016-09-30 23:56:42\" duration=199 policy_id=20 service=http proto=6 src zone=Untrust dst zone=DMZ action=Permit sent=6695 rcvd=423932 src=211.210.161.14 dst=112.123.145.21 src_port=50461 dst_port=80 src-xlated ip=211.210.161.14 port=50461 dst-xlated ip=112.123.145.21 port=80 session_id=393457 reason=Close - AGE OUT\"\"\"\n"
   ]
  }
 ],
 "metadata": {
  "kernelspec": {
   "display_name": "Python 3",
   "language": "python",
   "name": "python3"
  },
  "language_info": {
   "codemirror_mode": {
    "name": "ipython",
    "version": 3
   },
   "file_extension": ".py",
   "mimetype": "text/x-python",
   "name": "python",
   "nbconvert_exporter": "python",
   "pygments_lexer": "ipython3",
   "version": "3.5.1"
  }
 },
 "nbformat": 4,
 "nbformat_minor": 2
}
