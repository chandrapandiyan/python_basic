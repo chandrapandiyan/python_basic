{
 "cells": [
  {
   "cell_type": "code",
   "execution_count": 1,
   "metadata": {},
   "outputs": [
    {
     "data": {
      "text/html": [
       "<style>\n",
       "  table {margin-left: 0 !important;}\n",
       "</style>"
      ],
      "text/plain": [
       "<IPython.core.display.HTML object>"
      ]
     },
     "metadata": {},
     "output_type": "display_data"
    }
   ],
   "source": [
    "%%html\n",
    "<style>\n",
    "  table {margin-left: 0 !important;}\n",
    "</style>"
   ]
  },
  {
   "cell_type": "markdown",
   "metadata": {
    "collapsed": true
   },
   "source": [
    "# 1. 일반적인 문자열 조작하기"
   ]
  },
  {
   "cell_type": "markdown",
   "metadata": {},
   "source": [
    "## 1.1 문자열 검사 메서드\n",
    "\n",
    "문자열 객체(str)에는 문자열이 지정된 형식인지 아닌지를 검사하는 메서드가 있다. 이들 메서드의 반환값은 모드 bool(True/False) 이다.\n",
    "\n",
    "#### 문자열 검사 메서드\n",
    "|메서드 이름|설명|\n",
    "|:--------------|:---|\n",
    "|isalnum()      |문자열이 숫자와 문자일 때만 True를 반환|\n",
    "|isalpha()      |문자열이 문자일 때만 True를 반환. 한국어 등 ASCII 문자열이 아니더라도 숫자나 기호가 포함되어 있지 않으면 True를 반환|\n",
    "|isdecimal()    |문자열이 십진수 숫자를 나타내면 True 반환|\n",
    "|isdigit()      |문자열이 숫자를 나타내는 문자로만 이루어졌으면 True 반환|\n",
    "|isidentifier() |식별자로 사용할 수 있는 문자열이면 True 반환|\n",
    "|islower()      |문자열이 모두 소문자면 True 반환|\n",
    "|isnumeric()    |수를 나타내는 문자열이면 True 반환. 한자 숫자 등도 포함|\n",
    "|isprintable()  |프린트 가능한 문자열이면 True 반환|\n",
    "|isspace()      |스페이스, 탭, 등의 공백 문자면 True 반환|\n",
    "|istitle()      |맨 처음만 대문자이고 뒤는 소문자인 문자열이면 True 반환|\n",
    "|isupper()      |문자열이 모두 대문자면 True 반환|"
   ]
  },
  {
   "cell_type": "code",
   "execution_count": 7,
   "metadata": {},
   "outputs": [],
   "source": [
    "text1 = 'system-notification-00257'\n",
    "text2 = '58.111.111.113'\n",
    "text3 = '가나다라'\n",
    "text4 = 'NetScreen'\n",
    "text5 = '<133>DD_FW#2:'"
   ]
  },
  {
   "cell_type": "code",
   "execution_count": 9,
   "metadata": {},
   "outputs": [
    {
     "name": "stdout",
     "output_type": "stream",
     "text": [
      "False False\n"
     ]
    }
   ],
   "source": [
    "print(text1.isalnum(), text1.isalpha())"
   ]
  },
  {
   "cell_type": "code",
   "execution_count": 11,
   "metadata": {},
   "outputs": [
    {
     "name": "stdout",
     "output_type": "stream",
     "text": [
      "False False False\n"
     ]
    }
   ],
   "source": [
    "print(text2.isdecimal(), text2.isdigit(), text2.isnumeric())"
   ]
  },
  {
   "cell_type": "code",
   "execution_count": 12,
   "metadata": {},
   "outputs": [
    {
     "name": "stdout",
     "output_type": "stream",
     "text": [
      "True\n"
     ]
    }
   ],
   "source": [
    "print(text3.isalpha())"
   ]
  },
  {
   "cell_type": "code",
   "execution_count": 16,
   "metadata": {},
   "outputs": [
    {
     "name": "stdout",
     "output_type": "stream",
     "text": [
      "False False\n",
      "True\n"
     ]
    }
   ],
   "source": [
    "print(text4.istitle(), text4.isupper())\n",
    "print(text5.isupper())"
   ]
  },
  {
   "cell_type": "code",
   "execution_count": 17,
   "metadata": {},
   "outputs": [
    {
     "data": {
      "text/plain": [
       "True"
      ]
     },
     "execution_count": 17,
     "metadata": {},
     "output_type": "execute_result"
    }
   ],
   "source": [
    "' '.isspace()"
   ]
  },
  {
   "cell_type": "code",
   "execution_count": 18,
   "metadata": {},
   "outputs": [
    {
     "data": {
      "text/plain": [
       "True"
      ]
     },
     "execution_count": 18,
     "metadata": {},
     "output_type": "execute_result"
    }
   ],
   "source": [
    "'\\t'.isspace()"
   ]
  },
  {
   "cell_type": "markdown",
   "metadata": {},
   "source": [
    "## 1.2 문자열 변환 메서드\n",
    "\n",
    "문자열 객체(str)를 변환하는 메서드의 반환값은 모두 문자열이다. 아래 메서드는 대소문자 구분이 있는 알파벳일 때만 유효하며 일본어, 한국어 등 기타 언어에서는 무효.\n",
    "\n",
    "#### 문자열 변환 메서드\n",
    "|메서드 이름|설명|\n",
    "|:---|:---|\n",
    "|upper()                   |문자열을 모두 대문자로 변환|\n",
    "|lower()                   |문자열을 모두 소문자로 변환|\n",
    "|swapcase()                |대문자는 소문자로, 소문자는 대문자로 변환|\n",
    "|capitalize()              |맨 처음 한 문자를 대문자로, 그 외는 소문자로 변환|\n",
    "|title()                   |단어마다 capitalize() 적용 한 것과 동일|\n",
    "|replace(old, new[, count])|old를 new로 변환한 문자열을 반환. count가 지정된 경우에는 맨 처음부터 지정된 수 만큼 변환|"
   ]
  },
  {
   "cell_type": "code",
   "execution_count": 19,
   "metadata": {},
   "outputs": [
    {
     "data": {
      "text/plain": [
       "'HELLO WORLD!'"
      ]
     },
     "execution_count": 19,
     "metadata": {},
     "output_type": "execute_result"
    }
   ],
   "source": [
    "text = 'HELLO world!'\n",
    "text.upper()"
   ]
  },
  {
   "cell_type": "code",
   "execution_count": 20,
   "metadata": {},
   "outputs": [
    {
     "data": {
      "text/plain": [
       "'HELLO world!'"
      ]
     },
     "execution_count": 20,
     "metadata": {},
     "output_type": "execute_result"
    }
   ],
   "source": [
    "text  # 원본은 변하지 않고, 새로운 문자열을 리턴함"
   ]
  },
  {
   "cell_type": "code",
   "execution_count": 21,
   "metadata": {},
   "outputs": [
    {
     "data": {
      "text/plain": [
       "'hello world!'"
      ]
     },
     "execution_count": 21,
     "metadata": {},
     "output_type": "execute_result"
    }
   ],
   "source": [
    "text.lower()"
   ]
  },
  {
   "cell_type": "code",
   "execution_count": 22,
   "metadata": {},
   "outputs": [
    {
     "data": {
      "text/plain": [
       "'hello WORLD!'"
      ]
     },
     "execution_count": 22,
     "metadata": {},
     "output_type": "execute_result"
    }
   ],
   "source": [
    "text.swapcase()"
   ]
  },
  {
   "cell_type": "code",
   "execution_count": 23,
   "metadata": {},
   "outputs": [
    {
     "data": {
      "text/plain": [
       "'Hello world!'"
      ]
     },
     "execution_count": 23,
     "metadata": {},
     "output_type": "execute_result"
    }
   ],
   "source": [
    "text.capitalize()"
   ]
  },
  {
   "cell_type": "code",
   "execution_count": 24,
   "metadata": {},
   "outputs": [
    {
     "data": {
      "text/plain": [
       "'Hello World!'"
      ]
     },
     "execution_count": 24,
     "metadata": {},
     "output_type": "execute_result"
    }
   ],
   "source": [
    "text.title()"
   ]
  },
  {
   "cell_type": "code",
   "execution_count": 25,
   "metadata": {},
   "outputs": [
    {
     "data": {
      "text/plain": [
       "'HELLO python!'"
      ]
     },
     "execution_count": 25,
     "metadata": {},
     "output_type": "execute_result"
    }
   ],
   "source": [
    "text.replace('world', 'python')"
   ]
  },
  {
   "cell_type": "code",
   "execution_count": 27,
   "metadata": {},
   "outputs": [
    {
     "data": {
      "text/plain": [
       "'HElLO world!'"
      ]
     },
     "execution_count": 27,
     "metadata": {},
     "output_type": "execute_result"
    }
   ],
   "source": [
    "text.replace('L', 'l', 1)  # 첫 번째 'L'만 변환"
   ]
  },
  {
   "cell_type": "markdown",
   "metadata": {},
   "source": [
    "## 1.3 서식화 메서드\n",
    "\n",
    "서식화 메서드란 미리 포멧을 지정하여 그 포맷에 따라 인수를 배치해서 문자열을 작성하는 것이다. {}로 감싼 부분에 format()의 인수로 지정된 값이 대입되어 문자열이 작성된다.\n",
    "\n",
    "#### format() 메서드\n",
    "|||\n",
    "|:---|:---|\n",
    "|형식|format(\\*args, \\*\\*kwargs)|\n",
    "|인수|\\* args - 서식화할 값을 인수로 지정한다.|\n",
    "|인수|\\* kwargs - 서식화할 값을 키워드 인수로 지정한다.|\n",
    "\n",
    "#### format_map() 메서드\n",
    "|||\n",
    "|:---|:---|\n",
    "|형식|format_map(mapping)|\n",
    "|인수|\\* mapping - 서식화할 값을 사전 형식으로 지정한다.|\n",
    "\n",
    "### 치환 필드 지정 방법\n",
    "#### 기본적인 치환필드 지정 방법\n",
    "|형식|설명|\n",
    "|:--|:--|\n",
    "|{}{}|왼쪽부터 순서대로 인수로 지정한 값으로 치환된다.|\n",
    "|{0}{1}{2}|지정된 위치릐 인수 값으로 치환된다.|\n",
    "|{name}{key}|kwargs 또는 format_map()에서 지정한 사전의 키에 해당하는 값으로 치환된다|"
   ]
  },
  {
   "cell_type": "code",
   "execution_count": 28,
   "metadata": {},
   "outputs": [
    {
     "data": {
      "text/plain": [
       "'Beautiful is better than ugly'"
      ]
     },
     "execution_count": 28,
     "metadata": {},
     "output_type": "execute_result"
    }
   ],
   "source": [
    "'{} is better than {}'.format('Beautiful', 'ugly')"
   ]
  },
  {
   "cell_type": "code",
   "execution_count": 29,
   "metadata": {},
   "outputs": [
    {
     "data": {
      "text/plain": [
       "'Explicit is better than implicit'"
      ]
     },
     "execution_count": 29,
     "metadata": {},
     "output_type": "execute_result"
    }
   ],
   "source": [
    "'{1} is better than {0}'.format('implicit', 'Explicit')"
   ]
  },
  {
   "cell_type": "code",
   "execution_count": 30,
   "metadata": {},
   "outputs": [
    {
     "data": {
      "text/plain": [
       "'My name is DK'"
      ]
     },
     "execution_count": 30,
     "metadata": {},
     "output_type": "execute_result"
    }
   ],
   "source": [
    "'My name is {name}'.format(name='DK')"
   ]
  },
  {
   "cell_type": "code",
   "execution_count": 32,
   "metadata": {},
   "outputs": [
    {
     "data": {
      "text/plain": [
       "'My twitter id is bbdklee'"
      ]
     },
     "execution_count": 32,
     "metadata": {},
     "output_type": "execute_result"
    }
   ],
   "source": [
    "person = {'name': 'DK', 'twitter': 'bbdklee'}\n",
    "'My twitter id is {twitter}'.format_map(person)"
   ]
  },
  {
   "cell_type": "markdown",
   "metadata": {},
   "source": [
    "#### 복잡한 치환 필드 지정 방법\n",
    "인수에 list, dict 등을 지정할 때는 치환 필드를 다음과 같이 지정할 수 있음.\n",
    "\n",
    "|형식|설명|\n",
    "|:--|:--|\n",
    "|{0[0]}{name[0]}|지정된 인수의 0번째 요소가 배치됨|\n",
    "|{1[key]}{name[key]}|지정된 인수의 지정된 키워드(여기서는 key)의 값이 배치됨|\n",
    "|{0.attr}{name.attr}|지정된 인수의 지정된 속성(여기서는 attr) 값이 배치됨|"
   ]
  },
  {
   "cell_type": "code",
   "execution_count": 33,
   "metadata": {},
   "outputs": [
    {
     "data": {
      "text/plain": [
       "'I like eggs'"
      ]
     },
     "execution_count": 33,
     "metadata": {},
     "output_type": "execute_result"
    }
   ],
   "source": [
    "words = ['spam', 'ham', 'eggs']\n",
    "'I like {0[2]}'.format(words)"
   ]
  },
  {
   "cell_type": "code",
   "execution_count": 34,
   "metadata": {},
   "outputs": [
    {
     "data": {
      "text/plain": [
       "'My name is DK'"
      ]
     },
     "execution_count": 34,
     "metadata": {},
     "output_type": "execute_result"
    }
   ],
   "source": [
    "person = {'twitter': 'bbdklee', 'name': 'DK'}\n",
    "'My name is {person[name]}'.format(person=person)"
   ]
  },
  {
   "cell_type": "code",
   "execution_count": null,
   "metadata": {
    "collapsed": true
   },
   "outputs": [],
   "source": []
  }
 ],
 "metadata": {
  "kernelspec": {
   "display_name": "Python 3",
   "language": "python",
   "name": "python3"
  },
  "language_info": {
   "codemirror_mode": {
    "name": "ipython",
    "version": 3
   },
   "file_extension": ".py",
   "mimetype": "text/x-python",
   "name": "python",
   "nbconvert_exporter": "python",
   "pygments_lexer": "ipython3",
   "version": "3.5.1"
  }
 },
 "nbformat": 4,
 "nbformat_minor": 2
}
