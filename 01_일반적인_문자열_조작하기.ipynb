{
 "cells": [
  {
   "cell_type": "code",
   "execution_count": 1,
   "metadata": {},
   "outputs": [
    {
     "data": {
      "text/html": [
       "<style>\n",
       "  table {margin-left: 0 !important;}\n",
       "</style>"
      ],
      "text/plain": [
       "<IPython.core.display.HTML object>"
      ]
     },
     "metadata": {},
     "output_type": "display_data"
    }
   ],
   "source": [
    "%%html\n",
    "<style>\n",
    "  table {margin-left: 0 !important;}\n",
    "</style>"
   ]
  },
  {
   "cell_type": "markdown",
   "metadata": {
    "collapsed": true
   },
   "source": [
    "# 1. 일반적인 문자열 조작하기"
   ]
  },
  {
   "cell_type": "markdown",
   "metadata": {},
   "source": [
    "## 1.1 문자열 검사 메서드\n",
    "\n",
    "문자열 객체(str)에는 문자열이 지정된 형식인지 아닌지를 검사하는 메서드가 있다. 이들 메서드의 반환값은 모드 bool(True/False) 이다.\n",
    "\n",
    "#### 문자열 검사 메서드\n",
    "|메서드 이름|설명|\n",
    "|:--------------|:---|\n",
    "|isalnum()      |문자열이 숫자와 문자일 때만 True를 반환|\n",
    "|isalpha()      |문자열이 문자일 때만 True를 반환. 한국어 등 ASCII 문자열이 아니더라도 숫자나 기호가 포함되어 있지 않으면 True를 반환|\n",
    "|isdecimal()    |문자열이 십진수 숫자를 나타내면 True 반환|\n",
    "|isdigit()      |문자열이 숫자를 나타내는 문자로만 이루어졌으면 True 반환|\n",
    "|isidentifier() |식별자로 사용할 수 있는 문자열이면 True 반환|\n",
    "|islower()      |문자열이 모두 소문자면 True 반환|\n",
    "|isnumeric()    |수를 나타내는 문자열이면 True 반환. 한자 숫자 등도 포함|\n",
    "|isprintable()  |프린트 가능한 문자열이면 True 반환|\n",
    "|isspace()      |스페이스, 탭, 등의 공백 문자면 True 반환|\n",
    "|istitle()      |맨 처음만 대문자이고 뒤는 소문자인 문자열이면 True 반환|\n",
    "|isupper()      |문자열이 모두 대문자면 True 반환|"
   ]
  },
  {
   "cell_type": "code",
   "execution_count": 7,
   "metadata": {
    "collapsed": true
   },
   "outputs": [],
   "source": [
    "text1 = 'system-notification-00257'\n",
    "text2 = '58.111.111.113'\n",
    "text3 = '가나다라'\n",
    "text4 = 'NetScreen'\n",
    "text5 = '<133>DD_FW#2:'"
   ]
  },
  {
   "cell_type": "code",
   "execution_count": 9,
   "metadata": {},
   "outputs": [
    {
     "name": "stdout",
     "output_type": "stream",
     "text": [
      "False False\n"
     ]
    }
   ],
   "source": [
    "print(text1.isalnum(), text1.isalpha())"
   ]
  },
  {
   "cell_type": "code",
   "execution_count": 11,
   "metadata": {},
   "outputs": [
    {
     "name": "stdout",
     "output_type": "stream",
     "text": [
      "False False False\n"
     ]
    }
   ],
   "source": [
    "print(text2.isdecimal(), text2.isdigit(), text2.isnumeric())"
   ]
  },
  {
   "cell_type": "code",
   "execution_count": 12,
   "metadata": {},
   "outputs": [
    {
     "name": "stdout",
     "output_type": "stream",
     "text": [
      "True\n"
     ]
    }
   ],
   "source": [
    "print(text3.isalpha())"
   ]
  },
  {
   "cell_type": "code",
   "execution_count": 16,
   "metadata": {},
   "outputs": [
    {
     "name": "stdout",
     "output_type": "stream",
     "text": [
      "False False\n",
      "True\n"
     ]
    }
   ],
   "source": [
    "print(text4.istitle(), text4.isupper())\n",
    "print(text5.isupper())"
   ]
  },
  {
   "cell_type": "code",
   "execution_count": 17,
   "metadata": {},
   "outputs": [
    {
     "data": {
      "text/plain": [
       "True"
      ]
     },
     "execution_count": 17,
     "metadata": {},
     "output_type": "execute_result"
    }
   ],
   "source": [
    "' '.isspace()"
   ]
  },
  {
   "cell_type": "code",
   "execution_count": 18,
   "metadata": {},
   "outputs": [
    {
     "data": {
      "text/plain": [
       "True"
      ]
     },
     "execution_count": 18,
     "metadata": {},
     "output_type": "execute_result"
    }
   ],
   "source": [
    "'\\t'.isspace()"
   ]
  },
  {
   "cell_type": "markdown",
   "metadata": {},
   "source": [
    "## 1.2 문자열 변환 메서드\n",
    "\n",
    "문자열 객체(str)를 변환하는 메서드의 반환값은 모두 문자열이다. 아래 메서드는 대소문자 구분이 있는 알파벳일 때만 유효하며 일본어, 한국어 등 기타 언어에서는 무효.\n",
    "\n",
    "#### 문자열 변환 메서드\n",
    "|메서드 이름|설명|\n",
    "|:---|:---|\n",
    "|upper()                   |문자열을 모두 대문자로 변환|\n",
    "|lower()                   |문자열을 모두 소문자로 변환|\n",
    "|swapcase()                |대문자는 소문자로, 소문자는 대문자로 변환|\n",
    "|capitalize()              |맨 처음 한 문자를 대문자로, 그 외는 소문자로 변환|\n",
    "|title()                   |단어마다 capitalize() 적용 한 것과 동일|\n",
    "|replace(old, new[, count])|old를 new로 변환한 문자열을 반환. count가 지정된 경우에는 맨 처음부터 지정된 수 만큼 변환|"
   ]
  },
  {
   "cell_type": "code",
   "execution_count": 19,
   "metadata": {},
   "outputs": [
    {
     "data": {
      "text/plain": [
       "'HELLO WORLD!'"
      ]
     },
     "execution_count": 19,
     "metadata": {},
     "output_type": "execute_result"
    }
   ],
   "source": [
    "text = 'HELLO world!'\n",
    "text.upper()"
   ]
  },
  {
   "cell_type": "code",
   "execution_count": 20,
   "metadata": {},
   "outputs": [
    {
     "data": {
      "text/plain": [
       "'HELLO world!'"
      ]
     },
     "execution_count": 20,
     "metadata": {},
     "output_type": "execute_result"
    }
   ],
   "source": [
    "text  # 원본은 변하지 않고, 새로운 문자열을 리턴함"
   ]
  },
  {
   "cell_type": "code",
   "execution_count": 21,
   "metadata": {},
   "outputs": [
    {
     "data": {
      "text/plain": [
       "'hello world!'"
      ]
     },
     "execution_count": 21,
     "metadata": {},
     "output_type": "execute_result"
    }
   ],
   "source": [
    "text.lower()"
   ]
  },
  {
   "cell_type": "code",
   "execution_count": 22,
   "metadata": {},
   "outputs": [
    {
     "data": {
      "text/plain": [
       "'hello WORLD!'"
      ]
     },
     "execution_count": 22,
     "metadata": {},
     "output_type": "execute_result"
    }
   ],
   "source": [
    "text.swapcase()"
   ]
  },
  {
   "cell_type": "code",
   "execution_count": 23,
   "metadata": {},
   "outputs": [
    {
     "data": {
      "text/plain": [
       "'Hello world!'"
      ]
     },
     "execution_count": 23,
     "metadata": {},
     "output_type": "execute_result"
    }
   ],
   "source": [
    "text.capitalize()"
   ]
  },
  {
   "cell_type": "code",
   "execution_count": 24,
   "metadata": {},
   "outputs": [
    {
     "data": {
      "text/plain": [
       "'Hello World!'"
      ]
     },
     "execution_count": 24,
     "metadata": {},
     "output_type": "execute_result"
    }
   ],
   "source": [
    "text.title()"
   ]
  },
  {
   "cell_type": "code",
   "execution_count": 25,
   "metadata": {},
   "outputs": [
    {
     "data": {
      "text/plain": [
       "'HELLO python!'"
      ]
     },
     "execution_count": 25,
     "metadata": {},
     "output_type": "execute_result"
    }
   ],
   "source": [
    "text.replace('world', 'python')"
   ]
  },
  {
   "cell_type": "code",
   "execution_count": 27,
   "metadata": {},
   "outputs": [
    {
     "data": {
      "text/plain": [
       "'HElLO world!'"
      ]
     },
     "execution_count": 27,
     "metadata": {},
     "output_type": "execute_result"
    }
   ],
   "source": [
    "text.replace('L', 'l', 1)  # 첫 번째 'L'만 변환"
   ]
  },
  {
   "cell_type": "markdown",
   "metadata": {},
   "source": [
    "## 1.3 서식화 메서드\n",
    "\n",
    "서식화 메서드란 미리 포멧을 지정하여 그 포맷에 따라 인수를 배치해서 문자열을 작성하는 것이다. {}로 감싼 부분에 format()의 인수로 지정된 값이 대입되어 문자열이 작성된다.\n",
    "\n",
    "#### format() 메서드\n",
    "|||\n",
    "|:---|:---|\n",
    "|형식|format(\\*args, \\*\\*kwargs)|\n",
    "|인수|\\* args - 서식화할 값을 인수로 지정한다.|\n",
    "|인수|\\* kwargs - 서식화할 값을 키워드 인수로 지정한다.|\n",
    "\n",
    "#### format_map() 메서드\n",
    "|||\n",
    "|:---|:---|\n",
    "|형식|format_map(mapping)|\n",
    "|인수|\\* mapping - 서식화할 값을 사전 형식으로 지정한다.|\n",
    "\n",
    "### 치환 필드 지정 방법\n",
    "#### 기본적인 치환필드 지정 방법\n",
    "|형식|설명|\n",
    "|:--|:--|\n",
    "|{}{}|왼쪽부터 순서대로 인수로 지정한 값으로 치환된다.|\n",
    "|{0}{1}{2}|지정된 위치릐 인수 값으로 치환된다.|\n",
    "|{name}{key}|kwargs 또는 format_map()에서 지정한 사전의 키에 해당하는 값으로 치환된다|"
   ]
  },
  {
   "cell_type": "code",
   "execution_count": 28,
   "metadata": {},
   "outputs": [
    {
     "data": {
      "text/plain": [
       "'Beautiful is better than ugly'"
      ]
     },
     "execution_count": 28,
     "metadata": {},
     "output_type": "execute_result"
    }
   ],
   "source": [
    "'{} is better than {}'.format('Beautiful', 'ugly')"
   ]
  },
  {
   "cell_type": "code",
   "execution_count": 29,
   "metadata": {},
   "outputs": [
    {
     "data": {
      "text/plain": [
       "'Explicit is better than implicit'"
      ]
     },
     "execution_count": 29,
     "metadata": {},
     "output_type": "execute_result"
    }
   ],
   "source": [
    "'{1} is better than {0}'.format('implicit', 'Explicit')"
   ]
  },
  {
   "cell_type": "code",
   "execution_count": 30,
   "metadata": {},
   "outputs": [
    {
     "data": {
      "text/plain": [
       "'My name is DK'"
      ]
     },
     "execution_count": 30,
     "metadata": {},
     "output_type": "execute_result"
    }
   ],
   "source": [
    "'My name is {name}'.format(name='DK')"
   ]
  },
  {
   "cell_type": "code",
   "execution_count": 32,
   "metadata": {},
   "outputs": [
    {
     "data": {
      "text/plain": [
       "'My twitter id is bbdklee'"
      ]
     },
     "execution_count": 32,
     "metadata": {},
     "output_type": "execute_result"
    }
   ],
   "source": [
    "person = {'name': 'DK', 'twitter': 'bbdklee'}\n",
    "'My twitter id is {twitter}'.format_map(person)"
   ]
  },
  {
   "cell_type": "markdown",
   "metadata": {},
   "source": [
    "#### 복잡한 치환 필드 지정 방법\n",
    "인수에 list, dict 등을 지정할 때는 치환 필드를 다음과 같이 지정할 수 있음.\n",
    "\n",
    "|형식|설명|\n",
    "|:--|:--|\n",
    "|{0[0]}{name[0]}|지정된 인수의 0번째 요소가 배치됨|\n",
    "|{1[key]}{name[key]}|지정된 인수의 지정된 키워드(여기서는 key)의 값이 배치됨|\n",
    "|{0.attr}{name.attr}|지정된 인수의 지정된 속성(여기서는 attr) 값이 배치됨|"
   ]
  },
  {
   "cell_type": "code",
   "execution_count": 33,
   "metadata": {},
   "outputs": [
    {
     "data": {
      "text/plain": [
       "'I like eggs'"
      ]
     },
     "execution_count": 33,
     "metadata": {},
     "output_type": "execute_result"
    }
   ],
   "source": [
    "words = ['spam', 'ham', 'eggs']\n",
    "'I like {0[2]}'.format(words)"
   ]
  },
  {
   "cell_type": "code",
   "execution_count": 34,
   "metadata": {},
   "outputs": [
    {
     "data": {
      "text/plain": [
       "'My name is DK'"
      ]
     },
     "execution_count": 34,
     "metadata": {},
     "output_type": "execute_result"
    }
   ],
   "source": [
    "person = {'twitter': 'bbdklee', 'name': 'DK'}\n",
    "'My name is {person[name]}'.format(person=person)"
   ]
  },
  {
   "cell_type": "code",
   "execution_count": 38,
   "metadata": {},
   "outputs": [
    {
     "data": {
      "text/plain": [
       "'Today is 2017-4-17'"
      ]
     },
     "execution_count": 38,
     "metadata": {},
     "output_type": "execute_result"
    }
   ],
   "source": [
    "from datetime import datetime\n",
    "now = datetime.now()\n",
    "'Today is {0.year}-{0.month}-{0.day}'.format(now)"
   ]
  },
  {
   "cell_type": "markdown",
   "metadata": {},
   "source": [
    "### 포맷 지정 방법\n",
    "\n",
    "서식을 지정할 때 문자열 변환을 위한 포맷을 함께 지정할 수 있다. 예를들어, 문자열로 변환할 때 수치 자릿수를 지정하거나, 공백을 메우는 등, 레이아웃을 조정할 수 있다. 이러한 포맷은 콜론(:)의 뒤에 지정한다.\n",
    "\n",
    "#### 포맷 지정 방법\n",
    "|형식|설명|\n",
    "|:--|:--|\n",
    "|`:<30 :>30 :^30`|지정한 폭(여기에서는 30)으로 왼쪽 맞춤, 오른쪽 맞춤, 가운데 맞춤|\n",
    "|`:-<30 :->30 :-^30`|왼쪽 맞춤, 오른쪽 맞춤, 가운데 맞춤에서 공백(스페이스)을 지정한 문자(여기서는 '-')로 메움|\n",
    "|`:b :o :d :x :X`|2진수, 8진수, 10진수, 16진수(소문자). 16진수(대문자)로 변환|\n",
    "|`:f`|고정소수점 수의 문자열로 변환|\n",
    "|`:%`|백분율 표기로 변환|\n",
    "|`:,`|수치에 세 자리마다 쉼표(,)를 삽입|\n",
    "|`:6.2f`|표시할 자릿수를 지정. 6은 전체 자리수, 2는 소수점 이하 자릿수를 나타냄|\n",
    "|`:Y-%m-%d %H:%M:%S`|날짜 형식 특유의 서식으로, 연월일 등으로 변환|\n",
    "\n",
    "** 서식 지정에 대한 자세한 내용은 공식 문서의 [\"Format String Syntax\"](https://docs.python.org/3/library/string.html)를 참고하라. **"
   ]
  },
  {
   "cell_type": "code",
   "execution_count": 40,
   "metadata": {},
   "outputs": [
    {
     "data": {
      "text/plain": [
       "'|left align                    |'"
      ]
     },
     "execution_count": 40,
     "metadata": {},
     "output_type": "execute_result"
    }
   ],
   "source": [
    "'|{:<30}|'.format('left align')"
   ]
  },
  {
   "cell_type": "code",
   "execution_count": 41,
   "metadata": {},
   "outputs": [
    {
     "data": {
      "text/plain": [
       "'|                   right align|'"
      ]
     },
     "execution_count": 41,
     "metadata": {},
     "output_type": "execute_result"
    }
   ],
   "source": [
    "'|{:>30}|'.format('right align')"
   ]
  },
  {
   "cell_type": "code",
   "execution_count": 42,
   "metadata": {},
   "outputs": [
    {
     "data": {
      "text/plain": [
       "'|            center            |'"
      ]
     },
     "execution_count": 42,
     "metadata": {},
     "output_type": "execute_result"
    }
   ],
   "source": [
    "'|{:^30}|'.format('center')"
   ]
  },
  {
   "cell_type": "code",
   "execution_count": 43,
   "metadata": {},
   "outputs": [
    {
     "data": {
      "text/plain": [
       "'|------------center------------|'"
      ]
     },
     "execution_count": 43,
     "metadata": {},
     "output_type": "execute_result"
    }
   ],
   "source": [
    "'|{:-^30}|'.format('center')"
   ]
  },
  {
   "cell_type": "code",
   "execution_count": 44,
   "metadata": {},
   "outputs": [
    {
     "data": {
      "text/plain": [
       "'1111101000 1750 1000 3e8 3E8'"
      ]
     },
     "execution_count": 44,
     "metadata": {},
     "output_type": "execute_result"
    }
   ],
   "source": [
    "'{0:b} {0:o} {0:d} {0:x} {0:X}'.format(1000)"
   ]
  },
  {
   "cell_type": "code",
   "execution_count": 45,
   "metadata": {},
   "outputs": [
    {
     "data": {
      "text/plain": [
       "'3.141592653589793 3.141593'"
      ]
     },
     "execution_count": 45,
     "metadata": {},
     "output_type": "execute_result"
    }
   ],
   "source": [
    "from math import pi\n",
    "'{0} {0:f}'.format(pi)"
   ]
  },
  {
   "cell_type": "code",
   "execution_count": 46,
   "metadata": {},
   "outputs": [
    {
     "data": {
      "text/plain": [
       "'4.500000%'"
      ]
     },
     "execution_count": 46,
     "metadata": {},
     "output_type": "execute_result"
    }
   ],
   "source": [
    "'{:%}'.format(0.045)"
   ]
  },
  {
   "cell_type": "code",
   "execution_count": 47,
   "metadata": {},
   "outputs": [
    {
     "data": {
      "text/plain": [
       "'10,000,000,000'"
      ]
     },
     "execution_count": 47,
     "metadata": {},
     "output_type": "execute_result"
    }
   ],
   "source": [
    "'{:,}'.format(10000000000)"
   ]
  },
  {
   "cell_type": "code",
   "execution_count": 48,
   "metadata": {},
   "outputs": [
    {
     "data": {
      "text/plain": [
       "'3.14 4.50%'"
      ]
     },
     "execution_count": 48,
     "metadata": {},
     "output_type": "execute_result"
    }
   ],
   "source": [
    "'{:4.2f} {:2.2%}'.format(pi, 0.045)"
   ]
  },
  {
   "cell_type": "code",
   "execution_count": 49,
   "metadata": {},
   "outputs": [
    {
     "data": {
      "text/plain": [
       "'Today is 2017-04-17'"
      ]
     },
     "execution_count": 49,
     "metadata": {},
     "output_type": "execute_result"
    }
   ],
   "source": [
    "now = datetime.now()\n",
    "'Today is {:%Y-%m-%d}'.format(now)"
   ]
  },
  {
   "cell_type": "code",
   "execution_count": 50,
   "metadata": {},
   "outputs": [
    {
     "data": {
      "text/plain": [
       "'Current time is 10:59:16'"
      ]
     },
     "execution_count": 50,
     "metadata": {},
     "output_type": "execute_result"
    }
   ],
   "source": [
    "'Current time is {:%H:%M:%S}'.format(now)"
   ]
  },
  {
   "cell_type": "markdown",
   "metadata": {},
   "source": [
    "## 1.4 기타 문자열 메서드\n",
    "\n",
    "#### 기타 문자열 메서드\n",
    "|메서드 이름|설명|반환값|\n",
    "|:---|:---|---:|\n",
    "|find(sub[, start[, end]])|문자열 중에 sub이 존재하는 위치를 반환. 없으면 -1을 반환|int|\n",
    "|split(sep=None, maxsplit=-1)|문자열을 분할함. 기본으로는 공백 문자로 분할|list|\n",
    "|join(iterable)|인수로 지정된 여러 문자열을 결합|str|\n",
    "|startswith(prefix[, start[, end]])|지정된 접두사를 가진 문자열을 검색. prefix에는 튜플로 여러 개의 후보를 지정할 수 있음. start, end는 조사할 위치 지정에 사용|bool|\n",
    "|endswith(suffix[ , start[, end]])|지정된 접미사를 가진 문자열을 검색. suffix에는 튜플로 여러 개의 후보를 지정할 수 있음. start, end는 조사할 위치 지정에 사용|bool|\n",
    "|encode(encoding='utf-8', errors='strict')|문자열을 지정한 인코딩 형식으로 변환. errors에는 변환 불가능한 문자열이 있을 때 대응 방법을 기술. strict이면 오류가 발생하며, ignore이면 해당 문자를 무시, replace이면 ?로 변환|bytes|"
   ]
  },
  {
   "cell_type": "code",
   "execution_count": 51,
   "metadata": {},
   "outputs": [
    {
     "data": {
      "text/plain": [
       "2"
      ]
     },
     "execution_count": 51,
     "metadata": {},
     "output_type": "execute_result"
    }
   ],
   "source": [
    "'python'.find('th')"
   ]
  },
  {
   "cell_type": "code",
   "execution_count": 52,
   "metadata": {},
   "outputs": [
    {
     "data": {
      "text/plain": [
       "-1"
      ]
     },
     "execution_count": 52,
     "metadata": {},
     "output_type": "execute_result"
    }
   ],
   "source": [
    "'python'.find('TH')"
   ]
  },
  {
   "cell_type": "code",
   "execution_count": 53,
   "metadata": {},
   "outputs": [
    {
     "data": {
      "text/plain": [
       "2"
      ]
     },
     "execution_count": 53,
     "metadata": {},
     "output_type": "execute_result"
    }
   ],
   "source": [
    "'python'.upper().find('TH')"
   ]
  },
  {
   "cell_type": "code",
   "execution_count": 54,
   "metadata": {},
   "outputs": [
    {
     "data": {
      "text/plain": [
       "['Beautiful',\n",
       " 'is',\n",
       " 'better',\n",
       " 'than',\n",
       " 'ugly.',\n",
       " 'Explicit',\n",
       " 'is',\n",
       " 'better',\n",
       " 'than',\n",
       " 'implicit.']"
      ]
     },
     "execution_count": 54,
     "metadata": {},
     "output_type": "execute_result"
    }
   ],
   "source": [
    "words = '''Beautiful is better than ugly.\n",
    "Explicit is better than implicit.'''.split()\n",
    "words"
   ]
  },
  {
   "cell_type": "code",
   "execution_count": 56,
   "metadata": {},
   "outputs": [
    {
     "data": {
      "text/plain": [
       "'Beautiful-is-better-than-ugly.'"
      ]
     },
     "execution_count": 56,
     "metadata": {},
     "output_type": "execute_result"
    }
   ],
   "source": [
    "'-'.join(words[:5])"
   ]
  },
  {
   "cell_type": "code",
   "execution_count": 57,
   "metadata": {},
   "outputs": [
    {
     "data": {
      "text/plain": [
       "True"
      ]
     },
     "execution_count": 57,
     "metadata": {},
     "output_type": "execute_result"
    }
   ],
   "source": [
    "'python'.startswith('py')"
   ]
  },
  {
   "cell_type": "code",
   "execution_count": 58,
   "metadata": {},
   "outputs": [
    {
     "data": {
      "text/plain": [
       "True"
      ]
     },
     "execution_count": 58,
     "metadata": {},
     "output_type": "execute_result"
    }
   ],
   "source": [
    "image_suffix = ('jpg', 'png', 'gif')\n",
    "'image.png'.endswith(image_suffix)"
   ]
  },
  {
   "cell_type": "code",
   "execution_count": 59,
   "metadata": {},
   "outputs": [
    {
     "data": {
      "text/plain": [
       "False"
      ]
     },
     "execution_count": 59,
     "metadata": {},
     "output_type": "execute_result"
    }
   ],
   "source": [
    "'test.txt'.endswith(image_suffix)"
   ]
  },
  {
   "cell_type": "code",
   "execution_count": 60,
   "metadata": {},
   "outputs": [
    {
     "ename": "UnicodeEncodeError",
     "evalue": "'ascii' codec can't encode character '\\uac00' in position 0: ordinal not in range(128)",
     "output_type": "error",
     "traceback": [
      "\u001b[0;31m---------------------------------------------------------------------------\u001b[0m",
      "\u001b[0;31mUnicodeEncodeError\u001b[0m                        Traceback (most recent call last)",
      "\u001b[0;32m<ipython-input-60-b17e6da52f74>\u001b[0m in \u001b[0;36m<module>\u001b[0;34m()\u001b[0m\n\u001b[1;32m      1\u001b[0m \u001b[0mtext\u001b[0m \u001b[0;34m=\u001b[0m \u001b[0;34m'가abcd나'\u001b[0m\u001b[0;34m\u001b[0m\u001b[0m\n\u001b[0;32m----> 2\u001b[0;31m \u001b[0mtext\u001b[0m\u001b[0;34m.\u001b[0m\u001b[0mencode\u001b[0m\u001b[0;34m(\u001b[0m\u001b[0;34m'ascii'\u001b[0m\u001b[0;34m)\u001b[0m\u001b[0;34m\u001b[0m\u001b[0m\n\u001b[0m",
      "\u001b[0;31mUnicodeEncodeError\u001b[0m: 'ascii' codec can't encode character '\\uac00' in position 0: ordinal not in range(128)"
     ]
    }
   ],
   "source": [
    "text = '가abcd나'\n",
    "text.encode('ascii')"
   ]
  },
  {
   "cell_type": "code",
   "execution_count": 61,
   "metadata": {},
   "outputs": [
    {
     "data": {
      "text/plain": [
       "b'abcd'"
      ]
     },
     "execution_count": 61,
     "metadata": {},
     "output_type": "execute_result"
    }
   ],
   "source": [
    "text.encode('ascii', 'ignore')"
   ]
  },
  {
   "cell_type": "code",
   "execution_count": 62,
   "metadata": {},
   "outputs": [
    {
     "data": {
      "text/plain": [
       "b'?abcd?'"
      ]
     },
     "execution_count": 62,
     "metadata": {},
     "output_type": "execute_result"
    }
   ],
   "source": [
    "text.encode('ascii', 'replace')"
   ]
  },
  {
   "cell_type": "markdown",
   "metadata": {},
   "source": [
    "## 1.5 문자열 상수 이용하기\n",
    "\n",
    "#### string 모듈 상수\n",
    "|상수이름|설명|\n",
    "|:---|:---|\n",
    "|string.ascii_lowercase|영문 소문자(abcdefghijklmnopqrstuvwxyz)|\n",
    "|string.ascii_uppercase|영문 대문자(ABCDEFGHIJKLMNOPQRSTUVWXYZ)|\n",
    "|string.ascii_letters|소문자와 대문자를 합친 영문자 전체|\n",
    "|string.digits|10진수 숫자(0123456789)|\n",
    "|string.hexdigits|16진수 숫자(0123456789abcdefABCDEF)|\n",
    "|string.octdigits|8진수 숫자(01234567)|\n",
    "|string.punctuation|기호 문자열`(!\"#$%&'()*+,-./:;<=>?@[\\]^_`{|}~)`|\n",
    "|string.whitespace|공백으로 취급되는 문자열(`\\t \\n \\r \\x0b \\x0c`)|\n",
    "|string.printable|ascii_letter, digits, punctuation, whitespace를 포함한 문자열|"
   ]
  },
  {
   "cell_type": "code",
   "execution_count": 72,
   "metadata": {},
   "outputs": [
    {
     "name": "stdout",
     "output_type": "stream",
     "text": [
      "abcdefghijklmnopqrstuvwxyz\n",
      "ABCDEFGHIJKLMNOPQRSTUVWXYZ\n",
      "abcdefghijklmnopqrstuvwxyzABCDEFGHIJKLMNOPQRSTUVWXYZ\n",
      "0123456789\n",
      "0123456789abcdefABCDEF\n",
      "01234567\n",
      "!\"#$%&'()*+,-./:;<=>?@[\\]^_`{|}~\n",
      " \t\n",
      "\r",
      "\u000b",
      "\f",
      "\n",
      "0123456789abcdefghijklmnopqrstuvwxyzABCDEFGHIJKLMNOPQRSTUVWXYZ!\"#$%&'()*+,-./:;<=>?@[\\]^_`{|}~ \t\n",
      "\r",
      "\u000b",
      "\f",
      "\n"
     ]
    }
   ],
   "source": [
    "import string\n",
    "print(string.ascii_lowercase)\n",
    "print(string.ascii_uppercase)\n",
    "print(string.ascii_letters)\n",
    "print(string.digits)\n",
    "print(string.hexdigits)\n",
    "print(string.octdigits)\n",
    "print(string.punctuation)\n",
    "print(string.whitespace)\n",
    "print(string.printable)"
   ]
  },
  {
   "cell_type": "code",
   "execution_count": 73,
   "metadata": {},
   "outputs": [
    {
     "data": {
      "text/plain": [
       "True"
      ]
     },
     "execution_count": 73,
     "metadata": {},
     "output_type": "execute_result"
    }
   ],
   "source": [
    "'a' in string.ascii_lowercase"
   ]
  },
  {
   "cell_type": "code",
   "execution_count": 74,
   "metadata": {},
   "outputs": [
    {
     "data": {
      "text/plain": [
       "False"
      ]
     },
     "execution_count": 74,
     "metadata": {},
     "output_type": "execute_result"
    }
   ],
   "source": [
    "'a' in string.ascii_uppercase"
   ]
  },
  {
   "cell_type": "code",
   "execution_count": null,
   "metadata": {
    "collapsed": true
   },
   "outputs": [],
   "source": []
  },
  {
   "cell_type": "code",
   "execution_count": 76,
   "metadata": {},
   "outputs": [
    {
     "data": {
      "text/plain": [
       "'|||---------------- aaaaaaaaaaaaaaa -----------------|||'"
      ]
     },
     "execution_count": 76,
     "metadata": {},
     "output_type": "execute_result"
    }
   ],
   "source": [
    "'|||{:-^50}|||'.format(' aaaaaaaaaaaaaaa ')"
   ]
  },
  {
   "cell_type": "code",
   "execution_count": 78,
   "metadata": {
    "scrolled": false
   },
   "outputs": [
    {
     "name": "stdout",
     "output_type": "stream",
     "text": [
      "src_ip:  112.175.10.100 dst_ip: 112.175.135.113\n",
      "src_ip:  112.175.10.100 dst_ip: 112.175.135.113\n",
      "src_ip:  112.175.10.100 dst_ip: 112.175.135.113\n",
      "src_ip:  112.175.10.100 dst_ip: 112.175.135.113\n",
      "src_ip:  112.175.10.100 dst_ip: 112.175.135.113\n",
      "src_ip:  112.175.10.100 dst_ip: 112.175.135.113\n",
      "src_ip:  112.175.10.100 dst_ip: 112.175.135.113\n",
      "src_ip:  112.175.10.100 dst_ip: 112.175.135.113\n",
      "src_ip:  112.175.10.100 dst_ip: 112.175.135.113\n",
      "src_ip:  112.175.10.100 dst_ip: 112.175.135.113\n",
      "src_ip:  112.175.10.100 dst_ip: 112.175.135.113\n"
     ]
    }
   ],
   "source": [
    "print('src_ip: {:>15} dst_ip: {:>15}'.format('112.175.10.100', '112.175.135.113'))\n",
    "print('src_ip: {:>15} dst_ip: {:>15}'.format('112.175.10.100', '112.175.135.113'))\n",
    "print('src_ip: {:>15} dst_ip: {:>15}'.format('112.175.10.100', '112.175.135.113'))\n",
    "print('src_ip: {:>15} dst_ip: {:>15}'.format('112.175.10.100', '112.175.135.113'))\n",
    "print('src_ip: {:>15} dst_ip: {:>15}'.format('112.175.10.100', '112.175.135.113'))\n",
    "print('src_ip: {:>15} dst_ip: {:>15}'.format('112.175.10.100', '112.175.135.113'))\n",
    "print('src_ip: {:>15} dst_ip: {:>15}'.format('112.175.10.100', '112.175.135.113'))\n",
    "print('src_ip: {:>15} dst_ip: {:>15}'.format('112.175.10.100', '112.175.135.113'))\n",
    "print('src_ip: {:>15} dst_ip: {:>15}'.format('112.175.10.100', '112.175.135.113'))\n",
    "print('src_ip: {:>15} dst_ip: {:>15}'.format('112.175.10.100', '112.175.135.113'))\n",
    "print('src_ip: {:>15} dst_ip: {:>15}'.format('112.175.10.100', '112.175.135.113'))"
   ]
  },
  {
   "cell_type": "code",
   "execution_count": 91,
   "metadata": {},
   "outputs": [
    {
     "name": "stdout",
     "output_type": "stream",
     "text": [
      "2017-4-17\n",
      "2017-04-17\n",
      "16:28:59\n",
      "20170417\n"
     ]
    }
   ],
   "source": [
    "from datetime import datetime\n",
    "now = datetime.now()\n",
    "today = '{0.year}-{0.month}-{0.day}'.format(now)\n",
    "print(today)\n",
    "today2 = '{:%Y-%m-%d}'.format(now)\n",
    "print(today2)\n",
    "time = '{:%H:%M:%S}'.format(now)\n",
    "print(time)\n",
    "today3 = '{:%Y%m%d}'.format(now)\n",
    "print(today3)"
   ]
  },
  {
   "cell_type": "code",
   "execution_count": 88,
   "metadata": {},
   "outputs": [
    {
     "name": "stdout",
     "output_type": "stream",
     "text": [
      "['__add__', '__class__', '__contains__', '__delattr__', '__dir__', '__doc__', '__eq__', '__format__', '__ge__', '__getattribute__', '__getitem__', '__getnewargs__', '__gt__', '__hash__', '__init__', '__iter__', '__le__', '__len__', '__lt__', '__mod__', '__mul__', '__ne__', '__new__', '__reduce__', '__reduce_ex__', '__repr__', '__rmod__', '__rmul__', '__setattr__', '__sizeof__', '__str__', '__subclasshook__', 'capitalize', 'casefold', 'center', 'count', 'encode', 'endswith', 'expandtabs', 'find', 'format', 'format_map', 'index', 'isalnum', 'isalpha', 'isdecimal', 'isdigit', 'isidentifier', 'islower', 'isnumeric', 'isprintable', 'isspace', 'istitle', 'isupper', 'join', 'ljust', 'lower', 'lstrip', 'maketrans', 'partition', 'replace', 'rfind', 'rindex', 'rjust', 'rpartition', 'rsplit', 'rstrip', 'split', 'splitlines', 'startswith', 'strip', 'swapcase', 'title', 'translate', 'upper', 'zfill']\n"
     ]
    }
   ],
   "source": [
    "str_dir = dir('')\n",
    "print(str_dir)"
   ]
  },
  {
   "cell_type": "code",
   "execution_count": 89,
   "metadata": {},
   "outputs": [
    {
     "name": "stdout",
     "output_type": "stream",
     "text": [
      "capitalize\n",
      "casefold\n",
      "center\n",
      "count\n",
      "encode\n",
      "endswith\n",
      "expandtabs\n",
      "find\n",
      "format\n",
      "format_map\n",
      "index\n",
      "isalnum\n",
      "isalpha\n",
      "isdecimal\n",
      "isdigit\n",
      "isidentifier\n",
      "islower\n",
      "isnumeric\n",
      "isprintable\n",
      "isspace\n",
      "istitle\n",
      "isupper\n",
      "join\n",
      "ljust\n",
      "lower\n",
      "lstrip\n",
      "maketrans\n",
      "partition\n",
      "replace\n",
      "rfind\n",
      "rindex\n",
      "rjust\n",
      "rpartition\n",
      "rsplit\n",
      "rstrip\n",
      "split\n",
      "splitlines\n",
      "startswith\n",
      "strip\n",
      "swapcase\n",
      "title\n",
      "translate\n",
      "upper\n",
      "zfill\n"
     ]
    },
    {
     "data": {
      "text/plain": [
       "44"
      ]
     },
     "execution_count": 89,
     "metadata": {},
     "output_type": "execute_result"
    }
   ],
   "source": [
    "i = 0\n",
    "for item in str_dir:\n",
    "    if item.startswith('__'): pass\n",
    "    else:\n",
    "        print(item)\n",
    "        i += 1\n",
    "i"
   ]
  },
  {
   "cell_type": "code",
   "execution_count": null,
   "metadata": {
    "collapsed": true
   },
   "outputs": [],
   "source": []
  }
 ],
 "metadata": {
  "kernelspec": {
   "display_name": "Python 3",
   "language": "python",
   "name": "python3"
  },
  "language_info": {
   "codemirror_mode": {
    "name": "ipython",
    "version": 3
   },
   "file_extension": ".py",
   "mimetype": "text/x-python",
   "name": "python",
   "nbconvert_exporter": "python",
   "pygments_lexer": "ipython3",
   "version": "3.5.1"
  }
 },
 "nbformat": 4,
 "nbformat_minor": 2
}
